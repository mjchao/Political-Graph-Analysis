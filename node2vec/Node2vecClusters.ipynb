{
 "cells": [
  {
   "cell_type": "code",
   "execution_count": 1,
   "metadata": {
    "collapsed": true
   },
   "outputs": [],
   "source": [
    "import numpy as np"
   ]
  },
  {
   "cell_type": "code",
   "execution_count": 2,
   "metadata": {
    "collapsed": false
   },
   "outputs": [],
   "source": [
    "with open(\"contribution_node2vec_out.txt\") as f:\n",
    "    dim_data = f.readline().split()\n",
    "    num_nodes = int(dim_data[0])\n",
    "    node_vec_dim = int(dim_data[1])\n",
    "    node_vecs = np.zeros((int(dim_data[0]), int(dim_data[1])))\n",
    "    for line in f:\n",
    "        node_data = line.split()\n",
    "        node_id = int(node_data[0])\n",
    "        for i in range(node_vec_dim):\n",
    "            node_vecs[node_id][i] = float(node_data[i+1])"
   ]
  },
  {
   "cell_type": "code",
   "execution_count": 3,
   "metadata": {
    "collapsed": false
   },
   "outputs": [
    {
     "name": "stdout",
     "output_type": "stream",
     "text": [
      "[-0.206204  0.117147  0.014154 -0.084127  0.186381 -0.024529  0.23365\n",
      " -0.0503   -0.035066 -0.089588  0.064777 -0.173572  0.056378  0.088309\n",
      "  0.11997  -0.201687  0.178653  0.058235 -0.117698 -0.282486  0.032431\n",
      "  0.042493 -0.088682  0.172641 -0.241427 -0.025722 -0.108412  0.012929\n",
      " -0.309657 -0.135588 -0.131189  0.088665 -0.078884 -0.06343   0.037975\n",
      "  0.05841   0.052346 -0.132681 -0.05405   0.108694 -0.070494  0.383011\n",
      "  0.058106 -0.13754  -0.070687  0.013952 -0.141221 -0.170198 -0.04467\n",
      "  0.226945 -0.179311  0.215501 -0.153701  0.047734  0.221242 -0.027871\n",
      "  0.177848  0.059909 -0.058104  0.144449 -0.174775 -0.11797  -0.129869\n",
      " -0.07197   0.170183  0.17615   0.00483  -0.093633 -0.209115  0.173899\n",
      "  0.073659 -0.015828  0.004964 -0.058131  0.065444 -0.242036 -0.219623\n",
      " -0.014814  0.025772  0.123981  0.042693 -0.124941  0.07477   0.037647\n",
      "  0.020544  0.175318  0.008614  0.205708  0.01057   0.12409  -0.084472\n",
      "  0.079291  0.111315 -0.018011 -0.154074 -0.003682  0.154398 -0.063977\n",
      " -0.108989  0.15576   0.109934 -0.011541  0.094676 -0.057904 -0.047697\n",
      "  0.075539 -0.075476 -0.16517   0.147328  0.068813 -0.31594   0.133695\n",
      " -0.138989 -0.191694 -0.035223 -0.051983 -0.118429 -0.004983  0.005154\n",
      "  0.026163  0.249996  0.039699 -0.041273 -0.040452 -0.21981   0.02624\n",
      " -0.144919 -0.066784]\n"
     ]
    }
   ],
   "source": [
    "print node_vecs[5987, :]"
   ]
  },
  {
   "cell_type": "code",
   "execution_count": 4,
   "metadata": {
    "collapsed": true
   },
   "outputs": [],
   "source": [
    "from sklearn.cluster import KMeans"
   ]
  },
  {
   "cell_type": "code",
   "execution_count": 5,
   "metadata": {
    "collapsed": true
   },
   "outputs": [],
   "source": [
    "kmeans = KMeans(n_clusters=2)\n",
    "labels = kmeans.fit_predict(node_vecs)"
   ]
  },
  {
   "cell_type": "code",
   "execution_count": 6,
   "metadata": {
    "collapsed": false
   },
   "outputs": [
    {
     "name": "stdout",
     "output_type": "stream",
     "text": [
      "(array([0, 1], dtype=int32), array([6833, 8321]))\n"
     ]
    }
   ],
   "source": [
    "print np.unique(labels, return_counts=True)"
   ]
  },
  {
   "cell_type": "code",
   "execution_count": 7,
   "metadata": {
    "collapsed": false
   },
   "outputs": [
    {
     "name": "stdout",
     "output_type": "stream",
     "text": [
      "===== Democrat politicians =====\n",
      "Nancy Pelosi (D): 0\n",
      "Bernie Sanders (D): 0\n",
      "Elizabeth Warren (D): 0\n",
      "Debbie Wasserman Schultz (D): 0\n",
      "Tim Kaine (D): 0\n",
      "Kirsten Gillibrand (D): 0\n",
      "Tim Ryan (D): 0\n",
      "\n",
      "===== Republican politicians =====\n",
      "Mitch McConnell (R): 1\n",
      "Paul Ryan (R): 1\n",
      "Michael McCaul (R): 1\n",
      "Marco Rubio (R): 1\n",
      "Rand Paul (R): 1\n",
      "\n",
      "===== Companies ======\n",
      "Goldman Sachs: 0\n",
      "Costco wholesale: 1\n",
      "University of Michigan: 0\n",
      "Libery mutual: 0\n",
      "Michigan Farm Bureau: 1\n",
      "National Tank Truck Carriers Inc 1\n",
      "Boeing co 1\n",
      "HR Trading LLC 1\n",
      "Mckinsey & co 0\n",
      "Harvard University 0\n",
      "Industrial Electronic Engineers 1\n",
      "Toshbia corp 1\n",
      "Christ hospital 1\n",
      "Berkshire Hathaway 1\n",
      "Bill & Melinda Gates Foundation 0\n",
      "Massachusetts Institute of Technology 0\n",
      "New Jersey Institute of Technology 0\n",
      "Exxon Mobil 1\n",
      "BP 1\n",
      "University of Southern Mississippi 1\n",
      "Green Shultz Trial Lawyers 0\n",
      "Texas Christian University 0\n",
      "United Technologies 1\n",
      "Google inc 0\n",
      "Apple inc 0\n",
      "Macy's inc 0\n",
      "Luckey Farms 0\n",
      "California Canning Peach Assn 0\n",
      "State of Idaho 1\n"
     ]
    }
   ],
   "source": [
    "print \"===== Democrat politicians =====\"\n",
    "print \"Nancy Pelosi (D):\", labels[7884]\n",
    "print \"Bernie Sanders (D):\", labels[7409]\n",
    "print \"Elizabeth Warren (D):\", labels[7895]\n",
    "print \"Debbie Wasserman Schultz (D):\", labels[3555]\n",
    "print \"Tim Kaine (D):\", labels[314]\n",
    "print \"Kirsten Gillibrand (D):\", labels[2452]\n",
    "print \"Tim Ryan (D):\", labels[4071]\n",
    "print\n",
    "\n",
    "print \"===== Republican politicians =====\"\n",
    "print \"Mitch McConnell (R):\", labels[1360]\n",
    "print \"Paul Ryan (R):\", labels[8359]\n",
    "print \"Michael McCaul (R):\", labels[5452]\n",
    "print \"Marco Rubio (R):\", labels[13332]\n",
    "print \"Rand Paul (R):\", labels[1924]\n",
    "print\n",
    "\n",
    "print \"===== Companies ======\"\n",
    "print \"Goldman Sachs:\", labels[2350]\n",
    "print \"Costco wholesale:\", labels[2354]\n",
    "print \"University of Michigan:\", labels[4032]\n",
    "print \"Libery mutual:\", labels[4072]\n",
    "print \"Michigan Farm Bureau:\", labels[4080]\n",
    "print \"National Tank Truck Carriers Inc\", labels[4082]\n",
    "print \"Boeing co\", labels[4088]\n",
    "print \"HR Trading LLC\", labels[11479]\n",
    "print \"Mckinsey & co\", labels[11539]\n",
    "print \"Harvard University\", labels[1682]\n",
    "print \"Industrial Electronic Engineers\", labels[1797]\n",
    "print \"Toshbia corp\", labels[1891]\n",
    "print \"Christ hospital\", labels[295]\n",
    "print \"Berkshire Hathaway\", labels[11668]\n",
    "print \"Bill & Melinda Gates Foundation\", labels[9477]\n",
    "print \"Massachusetts Institute of Technology\", labels[13884]\n",
    "print \"New Jersey Institute of Technology\", labels[13911]\n",
    "print \"Exxon Mobil\", labels[10657]\n",
    "print \"BP\", labels[2714]\n",
    "print \"University of Southern Mississippi\", labels[2726]\n",
    "print \"Green Shultz Trial Lawyers\", labels[2749]\n",
    "print \"Texas Christian University\", labels[3417]\n",
    "print \"United Technologies\", labels[7794]\n",
    "print \"Google inc\", labels[256]\n",
    "print \"Apple inc\", labels[570]\n",
    "print \"Macy's inc\", labels[14003]\n",
    "print \"Luckey Farms\", labels[114]\n",
    "print \"California Canning Peach Assn\", labels[216]\n",
    "print \"State of Idaho\", labels[232]"
   ]
  },
  {
   "cell_type": "code",
   "execution_count": 15,
   "metadata": {
    "collapsed": false
   },
   "outputs": [],
   "source": [
    "politician_to_party = {}\n",
    "with open(\"contribution_id_map.txt\") as f:\n",
    "    for line in f:\n",
    "        data = line.rstrip(\"\\n\").split(\",\")\n",
    "        # politician\n",
    "        if len(data) > 2:\n",
    "            politician_id = int(data[0])\n",
    "            politician_party = data[3]\n",
    "            politician_to_party[politician_id] = politician_party\n",
    "        # company\n",
    "        else:\n",
    "            pass"
   ]
  },
  {
   "cell_type": "code",
   "execution_count": 17,
   "metadata": {
    "collapsed": false
   },
   "outputs": [
    {
     "data": {
      "text/plain": [
       "'independent'"
      ]
     },
     "execution_count": 17,
     "metadata": {},
     "output_type": "execute_result"
    }
   ],
   "source": [
    "politician_to_party[6852]"
   ]
  },
  {
   "cell_type": "code",
   "execution_count": 18,
   "metadata": {
    "collapsed": false
   },
   "outputs": [
    {
     "name": "stdout",
     "output_type": "stream",
     "text": [
      "(15154, 128)\n"
     ]
    }
   ],
   "source": [
    "print node_vecs.shape"
   ]
  },
  {
   "cell_type": "code",
   "execution_count": null,
   "metadata": {
    "collapsed": true
   },
   "outputs": [],
   "source": []
  }
 ],
 "metadata": {
  "anaconda-cloud": {},
  "kernelspec": {
   "display_name": "Python [conda env:tensorflow]",
   "language": "python",
   "name": "conda-env-tensorflow-py"
  },
  "language_info": {
   "codemirror_mode": {
    "name": "ipython",
    "version": 2
   },
   "file_extension": ".py",
   "mimetype": "text/x-python",
   "name": "python",
   "nbconvert_exporter": "python",
   "pygments_lexer": "ipython2",
   "version": "2.7.12"
  }
 },
 "nbformat": 4,
 "nbformat_minor": 1
}
