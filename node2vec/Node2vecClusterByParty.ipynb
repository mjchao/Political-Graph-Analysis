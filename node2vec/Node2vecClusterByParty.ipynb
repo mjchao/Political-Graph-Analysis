{
 "cells": [
  {
   "cell_type": "code",
   "execution_count": 1,
   "metadata": {
    "collapsed": true
   },
   "outputs": [],
   "source": [
    "import numpy as np"
   ]
  },
  {
   "cell_type": "code",
   "execution_count": 2,
   "metadata": {
    "collapsed": false
   },
   "outputs": [],
   "source": [
    "with open(\"contribution_node2vec_out.txt\") as f:\n",
    "    dim_data = f.readline().split()\n",
    "    num_nodes = int(dim_data[0])\n",
    "    node_vec_dim = int(dim_data[1])\n",
    "    node_vecs = np.zeros((int(dim_data[0]), int(dim_data[1])))\n",
    "    for line in f:\n",
    "        node_data = line.split()\n",
    "        node_id = int(node_data[0])\n",
    "        for i in range(node_vec_dim):\n",
    "            node_vecs[node_id][i] = float(node_data[i+1])"
   ]
  },
  {
   "cell_type": "code",
   "execution_count": 3,
   "metadata": {
    "collapsed": false
   },
   "outputs": [
    {
     "name": "stdout",
     "output_type": "stream",
     "text": [
      "[ 0.406381  0.045738  0.41004  -0.025185 -0.178681 -0.697899 -0.061132\n",
      " -0.012406  0.258448  0.046634  0.384956  0.099652 -0.278242 -0.197552\n",
      "  0.111555 -0.246045  0.222929  0.317824 -0.135143  0.276308  0.003248\n",
      "  0.519326 -0.285762 -0.162088  0.04991   0.334705  0.001779 -0.030048\n",
      " -0.001241  0.210782 -0.037096 -0.00095   0.118053 -0.39036  -0.25364\n",
      " -0.317647 -0.046374 -0.401751 -0.28985  -0.369068 -0.010145  0.03013\n",
      "  0.412739 -0.444577 -0.569927  0.37159   0.110973  0.455195  0.166442\n",
      " -0.236721  0.202703 -0.112102  0.293576 -0.509746  0.163716  0.029895\n",
      "  0.275661 -0.007347 -0.835764  0.273082  0.244738 -0.163165  0.014589\n",
      " -0.757269  0.004669 -0.1448   -0.688509  0.070206  0.185529 -0.344874\n",
      " -0.120837 -0.421547 -0.49137  -0.168105  0.08401   0.327175  0.001633\n",
      " -0.319605  0.095285  0.128336 -0.010048  0.765562  0.616104 -0.372242\n",
      " -0.231031  0.025448  0.125265 -0.167782  0.221827 -0.164901 -0.364121\n",
      "  0.752501 -0.289592  0.193644  0.311914  0.223319 -0.168007  0.116212\n",
      " -0.099551 -0.150301 -0.056988  0.329215 -0.16484   0.295756 -0.623444\n",
      " -0.379736  0.219048  0.485965  0.053603 -0.114101  0.115336  0.236424\n",
      " -0.261111 -0.048825  0.002137  0.11506   0.108154  0.650192 -0.101423\n",
      " -0.237387 -0.213245  0.072973 -0.121048 -0.125664  0.104531 -0.271817\n",
      " -0.356094  0.073483]\n"
     ]
    }
   ],
   "source": [
    "print node_vecs[5987, :]"
   ]
  },
  {
   "cell_type": "code",
   "execution_count": 4,
   "metadata": {
    "collapsed": true
   },
   "outputs": [],
   "source": [
    "from sklearn.cluster import KMeans"
   ]
  },
  {
   "cell_type": "code",
   "execution_count": 5,
   "metadata": {
    "collapsed": true
   },
   "outputs": [],
   "source": [
    "kmeans = KMeans(n_clusters=2)\n",
    "labels = kmeans.fit_predict(node_vecs)"
   ]
  },
  {
   "cell_type": "code",
   "execution_count": 6,
   "metadata": {
    "collapsed": false
   },
   "outputs": [
    {
     "name": "stdout",
     "output_type": "stream",
     "text": [
      "(array([0, 1], dtype=int32), array([8266, 6888]))\n"
     ]
    }
   ],
   "source": [
    "print np.unique(labels, return_counts=True)"
   ]
  },
  {
   "cell_type": "code",
   "execution_count": 7,
   "metadata": {
    "collapsed": false
   },
   "outputs": [
    {
     "name": "stdout",
     "output_type": "stream",
     "text": [
      "===== Democrat politicians =====\n",
      "Nancy Pelosi (D): 1\n",
      "Bernie Sanders (D): 1\n",
      "Elizabeth Warren (D): 1\n",
      "Debbie Wasserman Schultz (D): 1\n",
      "Tim Kaine (D): 1\n",
      "Kirsten Gillibrand (D): 1\n",
      "Tim Ryan (D): 1\n",
      "\n",
      "===== Republican politicians =====\n",
      "Mitch McConnell (R): 0\n",
      "Paul Ryan (R): 0\n",
      "Michael McCaul (R): 0\n",
      "Marco Rubio (R): 0\n",
      "Rand Paul (R): 0\n",
      "\n",
      "===== Companies ======\n",
      "Goldman Sachs: 1\n",
      "Costco: 1\n",
      "University of Michigan: 1\n",
      "Libery mutual: 1\n",
      "Michigan Farm Bureau: 0\n",
      "National Tank Truck Carriers Inc 0\n",
      "Boeing co 0\n",
      "HR Trading LLC 0\n",
      "Mckinsey & co 1\n",
      "Harvard University 1\n"
     ]
    }
   ],
   "source": [
    "print \"===== Democrat politicians =====\"\n",
    "print \"Nancy Pelosi (D):\", labels[13625]\n",
    "print \"Bernie Sanders (D):\", labels[6852]\n",
    "print \"Elizabeth Warren (D):\", labels[1606]\n",
    "print \"Debbie Wasserman Schultz (D):\", labels[2757]\n",
    "print \"Tim Kaine (D):\", labels[4951]\n",
    "print \"Kirsten Gillibrand (D):\", labels[3414]\n",
    "print \"Tim Ryan (D):\", labels[12784]\n",
    "print\n",
    "\n",
    "print \"===== Republican politicians =====\"\n",
    "print \"Mitch McConnell (R):\", labels[2955]\n",
    "print \"Paul Ryan (R):\", labels[5959]\n",
    "print \"Michael McCaul (R):\", labels[5750]\n",
    "print \"Marco Rubio (R):\", labels[3139]\n",
    "print \"Rand Paul (R):\", labels[578]\n",
    "print\n",
    "\n",
    "#Indices are invalid. Do not use.\n",
    "print \"===== Companies ======\"\n",
    "print \"Goldman Sachs:\", labels[2339]\n",
    "print \"Costco:\", labels[3312]\n",
    "print \"University of Michigan:\", labels[4025]\n",
    "print \"Libery mutual:\", labels[4065]\n",
    "print \"Michigan Farm Bureau:\", labels[4073]\n",
    "print \"National Tank Truck Carriers Inc\", labels[4075]\n",
    "print \"Boeing co\", labels[4081]\n",
    "print \"HR Trading LLC\", labels[11481]\n",
    "print \"Mckinsey & co\", labels[11545]\n",
    "print \"Harvard University\", labels[1669]"
   ]
  },
  {
   "cell_type": "code",
   "execution_count": 8,
   "metadata": {
    "collapsed": false
   },
   "outputs": [],
   "source": [
    "democrats = set()\n",
    "republicans = set()\n",
    "id_to_politician = {}\n",
    "party_0 = []\n",
    "party_1 = []\n",
    "\n",
    "with open(\"contribution_id_map.txt\") as f:\n",
    "    for line in f:\n",
    "        data = line.rstrip(\"\\n\").split(\",\")\n",
    "        # politician\n",
    "        if len(data) > 2:\n",
    "            politician_id = int(data[0])\n",
    "            politician_name = data[1]\n",
    "            politician_party = data[3]\n",
    "            id_to_politician[politician_id] = politician_name\n",
    "            if politician_party == \"democrat\":\n",
    "                democrats.add(politician_id)\n",
    "                if labels[politician_id] == 0:\n",
    "                    party_0.append(politician_id)\n",
    "                else:\n",
    "                    party_1.append(politician_id)\n",
    "            elif politician_party == \"republican\":\n",
    "                republicans.add(politician_id)\n",
    "                if labels[politician_id] == 0:\n",
    "                    party_0.append(politician_id)\n",
    "                else:\n",
    "                    party_1.append(politician_id)\n",
    "        # company\n",
    "        else:\n",
    "            pass"
   ]
  },
  {
   "cell_type": "code",
   "execution_count": 9,
   "metadata": {
    "collapsed": false
   },
   "outputs": [
    {
     "name": "stdout",
     "output_type": "stream",
     "text": [
      "Party 0: 12 274\n",
      "Party 0 entropy: 0.251198816709\n",
      "Party 1: 247 6\n",
      "Party 1 entropy: 0.161821712221\n"
     ]
    }
   ],
   "source": [
    "party0_democrats = 0\n",
    "party0_republicans = 0\n",
    "for pol_id in party_0:\n",
    "    if pol_id in democrats:\n",
    "        party0_democrats += 1\n",
    "    else:\n",
    "        party0_republicans += 1\n",
    "print \"Party 0:\", party0_democrats, party0_republicans\n",
    "party0_total = party0_democrats + party0_republicans\n",
    "party0_probability_democrat = float(party0_democrats)/party0_total\n",
    "party0_probability_republican = float(party0_republicans)/party0_total\n",
    "print \"Party 0 entropy:\", -(party0_probability_democrat * np.log2(party0_probability_democrat)\n",
    "                            + party0_probability_republican * np.log2(party0_probability_republican))\n",
    "\n",
    "party1_democrats = 0\n",
    "party1_republicans = 0\n",
    "for pol_id in party_1:\n",
    "    if pol_id in democrats:\n",
    "        party1_democrats += 1\n",
    "    else:\n",
    "        party1_republicans += 1\n",
    "print \"Party 1:\", party1_democrats, party1_republicans\n",
    "party1_total = party1_democrats + party1_republicans\n",
    "party1_probability_democrat = float(party1_democrats)/party1_total\n",
    "party1_probability_republican = float(party1_republicans)/party1_total\n",
    "print \"Party 1 entropy:\", -(party1_probability_democrat * np.log2(party1_probability_democrat) +\n",
    "                            party1_probability_republican * np.log2(party1_probability_republican))\n"
   ]
  },
  {
   "cell_type": "code",
   "execution_count": 10,
   "metadata": {
    "collapsed": false
   },
   "outputs": [
    {
     "name": "stdout",
     "output_type": "stream",
     "text": [
      "john carney is a democrat outlier classified as republican.\n",
      "sanford bishop is a democrat outlier classified as republican.\n",
      "jim costa is a democrat outlier classified as republican.\n",
      "tim johnson is a democrat outlier classified as republican.\n",
      "ron kind is a democrat outlier classified as republican.\n",
      "jim matheson is a democrat outlier classified as republican.\n",
      "collin peterson is a democrat outlier classified as republican.\n",
      "terri a. sewell is a democrat outlier classified as republican.\n",
      "jim cooper is a democrat outlier classified as republican.\n",
      "gregory w. meeks is a democrat outlier classified as republican.\n",
      "g. k. butterfield is a democrat outlier classified as republican.\n",
      "henry cuellar is a democrat outlier classified as republican.\n",
      "ileana ros-lehtinen is a republican outlier classified as democrat.\n",
      "tom petri is a republican outlier classified as democrat.\n",
      "michael grimm is a republican outlier classified as democrat.\n",
      "frank a. lobiondo is a republican outlier classified as democrat.\n",
      "pete king is a republican outlier classified as democrat.\n",
      "chris smith is a republican outlier classified as democrat.\n"
     ]
    }
   ],
   "source": [
    "party0_outlier = \"democrat\" if party0_democrats < party0_republicans else \"republican\"\n",
    "if party0_outlier == \"democrat\":\n",
    "    for politician_id in party_0:\n",
    "        if politician_id in democrats:\n",
    "            print id_to_politician[politician_id], \"is a democrat outlier classified as republican.\"\n",
    "    for politician_id in party_1:\n",
    "        if politician_id in republicans:\n",
    "            print id_to_politician[politician_id], \"is a republican outlier classified as democrat.\"\n",
    "elif party0_outlier == \"republican\":\n",
    "    for politician_id in party_0:\n",
    "        if politician_id in republicans:\n",
    "            print id_to_politician[politician_id], \"is a republican outlier classified as democrat.\"\n",
    "    for politician_id in party_1:\n",
    "        if politician_id in democrats:\n",
    "            print id_to_politician[politician_id], \"is a democrat outlier classified as republican.\""
   ]
  },
  {
   "cell_type": "code",
   "execution_count": null,
   "metadata": {
    "collapsed": true
   },
   "outputs": [],
   "source": []
  }
 ],
 "metadata": {
  "anaconda-cloud": {},
  "kernelspec": {
   "display_name": "Python [conda env:tensorflow]",
   "language": "python",
   "name": "conda-env-tensorflow-py"
  },
  "language_info": {
   "codemirror_mode": {
    "name": "ipython",
    "version": 2
   },
   "file_extension": ".py",
   "mimetype": "text/x-python",
   "name": "python",
   "nbconvert_exporter": "python",
   "pygments_lexer": "ipython2",
   "version": "2.7.12"
  }
 },
 "nbformat": 4,
 "nbformat_minor": 1
}
